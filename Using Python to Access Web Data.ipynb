{
 "cells": [
  {
   "cell_type": "code",
   "execution_count": 4,
   "metadata": {},
   "outputs": [
    {
     "name": "stdout",
     "output_type": "stream",
     "text": [
      "Line Count: 3371\n"
     ]
    }
   ],
   "source": [
    "fhand = open(\"sample_file.txt\")\n",
    "count=0\n",
    "for line in fhand:\n",
    "    count+=1\n",
    "print(\"Line Count:\",count)"
   ]
  },
  {
   "cell_type": "code",
   "execution_count": 5,
   "metadata": {},
   "outputs": [
    {
     "name": "stdout",
     "output_type": "stream",
     "text": [
      "77174\n"
     ]
    }
   ],
   "source": [
    "handle = open(\"sample_file.txt\")\n",
    "inp = handle.read()\n",
    "print(len(inp))"
   ]
  },
  {
   "cell_type": "code",
   "execution_count": 6,
   "metadata": {},
   "outputs": [
    {
     "data": {
      "text/plain": [
       "'Pug\\\\r\\\\n\\nJack Russell'"
      ]
     },
     "execution_count": 6,
     "metadata": {},
     "output_type": "execute_result"
    }
   ],
   "source": [
    "inp[:20]"
   ]
  },
  {
   "cell_type": "code",
   "execution_count": 8,
   "metadata": {
    "collapsed": true
   },
   "outputs": [
    {
     "name": "stdout",
     "output_type": "stream",
     "text": [
      "Golden Retriever\\r\\n\n",
      "\n",
      "Golden Retriever\\r\\n\n",
      "\n",
      "Golden Retriever\\r\\n\n",
      "\n",
      "Golden Retriever\\r\\n\n",
      "\n",
      "Golden Retriever\\r\\n\n",
      "\n",
      "Golden Retriever\\r\\n\n",
      "\n",
      "Golden Retriever\\r\\n\n",
      "\n",
      "Golden Retriever\\r\\n\n",
      "\n",
      "Golden Retriever\\r\\n\n",
      "\n",
      "Golden Retriever\\r\\n\n",
      "\n",
      "Golden Retriever\\r\\n\n",
      "\n",
      "Golden Retriever\\r\\n\n",
      "\n",
      "Golden Retriever\\r\\n\n",
      "\n",
      "Golden Retriever\\r\\n\n",
      "\n",
      "Golden Retriever\\r\\n\n",
      "\n",
      "Golden Retriever\\r\\n\n",
      "\n",
      "Golden Retriever\\r\\n\n",
      "\n",
      "Golden Retriever\\r\\n\n",
      "\n",
      "Golden Retriever\\r\\n\n",
      "\n",
      "Golden Retriever\\r\\n\n",
      "\n",
      "Golden Retriever\\r\\n\n",
      "\n",
      "Golden Retriever\\r\\n\n",
      "\n",
      "Golden Retriever\\r\\n\n",
      "\n",
      "Golden Retriever\\r\\n\n",
      "\n",
      "Golden Retriever\\r\\n\n",
      "\n",
      "Golden Retriever\\r\\n\n",
      "\n",
      "Golden Retriever\\r\\n\n",
      "\n",
      "Golden Retriever\\r\\n\n",
      "\n",
      "Golden Retriever\\r\\n\n",
      "\n",
      "Golden Retriever\\r\\n\n",
      "\n",
      "Golden Retriever\\r\\n\n",
      "\n",
      "Golden Retriever\\r\\n\n",
      "\n",
      "Golden Retriever\\r\\n\n",
      "\n",
      "Golden Retriever\\r\\n\n",
      "\n",
      "Golden Retriever\\r\\n\n",
      "\n",
      "Golden Retriever\\r\\n\n",
      "\n",
      "Golden Retriever\\r\\n\n",
      "\n",
      "Golden Retriever\\r\\n\n",
      "\n",
      "Golden Retriever\\r\\n\n",
      "\n",
      "Golden Retriever\\r\\n\n",
      "\n",
      "Golden Retriever\\r\\n\n",
      "\n",
      "Golden Retriever\\r\\n\n",
      "\n",
      "Golden Retriever\\r\\n\n",
      "\n",
      "Golden Retriever\\r\\n\n",
      "\n",
      "Golden Retriever\\r\\n\n",
      "\n",
      "Golden Retriever\\r\\n\n",
      "\n",
      "Golden Retriever\\r\\n\n",
      "\n",
      "Golden Retriever\\r\\n\n",
      "\n",
      "Golden Retriever\\r\\n\n",
      "\n",
      "Golden Retriever\\r\\n\n",
      "\n",
      "Golden Retriever\\r\\n\n",
      "\n",
      "Golden Retriever\\r\\n\n",
      "\n",
      "Golden Retriever\\r\\n\n",
      "\n",
      "Golden Retriever\\r\\n\n",
      "\n",
      "Golden Retriever\\r\\n\n",
      "\n",
      "Golden Retriever\\r\\n\n",
      "\n",
      "Golden Retriever\\r\\n\n",
      "\n",
      "Golden Retriever\\r\\n\n",
      "\n",
      "Golden Retriever\\r\\n\n",
      "\n",
      "Golden Retriever\\r\\n\n",
      "\n",
      "Golden Retriever\\r\\n\n",
      "\n",
      "Golden Retriever\\r\\n\n",
      "\n",
      "Golden Retriever\\r\\n\n",
      "\n",
      "Golden Retriever\\r\\n\n",
      "\n",
      "Golden Retriever\\r\\n\n",
      "\n",
      "Golden Retriever\\r\\n\n",
      "\n",
      "Golden Retriever\\r\\n\n",
      "\n",
      "Golden Retriever\\r\\n\n",
      "\n",
      "Golden Retriever\\r\\n\n",
      "\n",
      "Golden Retriever\\r\\n\n",
      "\n",
      "Golden Retriever\\r\\n\n",
      "\n",
      "Golden Retriever\\r\\n\n",
      "\n",
      "Golden Retriever\\r\\n\n",
      "\n",
      "Golden Retriever\\r\\n\n",
      "\n",
      "Golden Retriever\\r\\n\n",
      "\n",
      "Golden Retriever\\r\\n\n",
      "\n",
      "Golden Retriever\\r\\n\n",
      "\n",
      "Golden Retriever\\r\\n\n",
      "\n",
      "Golden Retriever\\r\\n\n",
      "\n",
      "Golden Retriever\\r\\n\n",
      "\n",
      "Golden Retriever\\r\\n\n",
      "\n",
      "Golden Retriever\\r\\n\n",
      "\n",
      "Golden Retriever\\r\\n\n",
      "\n",
      "Golden Retriever\\r\\n\n",
      "\n",
      "Golden Retriever\\r\\n\n",
      "\n",
      "Golden Retriever\\r\\n\n",
      "\n",
      "Golden Retriever\\r\\n\n",
      "\n",
      "Golden Retriever\\r\\n\n",
      "\n",
      "Golden Retriever\\r\\n\n",
      "\n",
      "Golden Retriever\\r\\n\n",
      "\n",
      "Golden Retriever\\r\\n\n",
      "\n",
      "Golden Retriever\\r\\n\n",
      "\n",
      "Golden Retriever\\r\\n\n",
      "\n",
      "Golden Retriever\\r\\n\n",
      "\n",
      "Golden Retriever\\r\\n\n",
      "\n",
      "Golden Retriever\\r\\n\n",
      "\n",
      "Golden Retriever\\r\\n\n",
      "\n",
      "Golden Retriever\\r\\n\n",
      "\n",
      "Golden Retriever\\r\\n\n",
      "\n",
      "Golden Retriever\\r\\n\n",
      "\n",
      "Golden Retriever\\r\\n\n",
      "\n",
      "Golden Retriever\\r\\n\n",
      "\n",
      "Golden Retriever\\r\\n\n",
      "\n",
      "Golden Retriever\\r\\n\n",
      "\n",
      "Golden Retriever\\r\\n\n",
      "\n",
      "Golden Retriever\\r\\n\n",
      "\n",
      "Golden Retriever\\r\\n\n",
      "\n",
      "Golden Retriever\\r\\n\n",
      "\n",
      "Golden Retriever\\r\\n\n",
      "\n",
      "Golden Retriever\\r\\n\n",
      "\n",
      "Golden Retriever\\r\\n\n",
      "\n",
      "Golden Retriever\\r\\n\n",
      "\n",
      "Golden Retriever\\r\\n\n",
      "\n",
      "Golden Retriever\\r\\n\n",
      "\n",
      "Golden Retriever\\r\\n\n",
      "\n",
      "Golden Retriever\\r\\n\n",
      "\n",
      "Golden Retriever\\r\\n\n",
      "\n",
      "Golden Retriever\\r\\n\n",
      "\n",
      "Golden Retriever\\r\\n\n",
      "\n",
      "Golden Retriever\\r\\n\n",
      "\n",
      "Golden Retriever\\r\\n\n",
      "\n",
      "Golden Retriever\\r\\n\n",
      "\n",
      "Golden Retriever\\r\\n\n",
      "\n",
      "Golden Retriever\\r\\n\n",
      "\n",
      "Golden Retriever\\r\\n\n",
      "\n",
      "Golden Retriever\\r\\n\n",
      "\n",
      "Golden Retriever\\r\\n\n",
      "\n",
      "Golden Retriever\\r\\n\n",
      "\n",
      "Golden Retriever\\r\\n\n",
      "\n",
      "Golden Retriever\\r\\n\n",
      "\n",
      "Golden Retriever\\r\\n\n",
      "\n",
      "Golden Retriever\\r\\n\n",
      "\n",
      "Golden Retriever\\r\\n\n",
      "\n",
      "Golden Retriever\\r\\n\n",
      "\n",
      "Golden Retriever\\r\\n\n",
      "\n",
      "Golden Retriever\\r\\n\n",
      "\n",
      "Golden Retriever\\r\\n\n",
      "\n",
      "Golden Retriever\\r\\n\n",
      "\n",
      "Golden Retriever\\r\\n\n",
      "\n",
      "Golden Retriever\\r\\n\n",
      "\n",
      "Golden Retriever\\r\\n\n",
      "\n",
      "Golden Retriever\\r\\n\n",
      "\n",
      "Golden Retriever\\r\\n\n",
      "\n",
      "Golden Retriever\\r\\n\n",
      "\n",
      "Golden Retriever\\r\\n\n",
      "\n",
      "Golden Retriever\\r\\n\n",
      "\n",
      "Golden Retriever\\r\\n\n",
      "\n",
      "Golden Retriever\\r\\n\n",
      "\n",
      "Golden Retriever\\r\\n\n",
      "\n",
      "Golden Retriever\\r\\n\n",
      "\n",
      "Golden Retriever\\r\\n\n",
      "\n",
      "Golden Retriever\\r\\n\n",
      "\n",
      "Golden Retriever\\r\\n\n",
      "\n",
      "Golden Retriever\\r\\n\n",
      "\n",
      "Golden Retriever\\r\\n\n",
      "\n",
      "Golden Retriever\\r\\n\n",
      "\n",
      "Golden Retriever\\r\\n\n",
      "\n",
      "Golden Retriever\\r\\n\n",
      "\n",
      "Golden Retriever\\r\\n\n",
      "\n",
      "Golden Retriever\\r\\n\n",
      "\n",
      "Golden Retriever\\r\\n\n",
      "\n",
      "Golden Retriever\\r\\n\n",
      "\n",
      "Golden Retriever\\r\\n\n",
      "\n",
      "Golden Retriever\\r\\n\n",
      "\n",
      "Golden Retriever\\r\\n\n",
      "\n",
      "Golden Retriever\\r\\n\n",
      "\n",
      "Golden Retriever\\r\\n\n",
      "\n",
      "Golden Retriever\\r\\n\n",
      "\n",
      "Golden Retriever\\r\\n\n",
      "\n",
      "Golden Retriever\\r\\n\n",
      "\n",
      "Golden Retriever\\r\\n\n",
      "\n",
      "Golden Retriever\\r\\n\n",
      "\n",
      "Golden Retriever\\r\\n\n",
      "\n",
      "Golden Retriever\\r\\n\n",
      "\n",
      "Golden Retriever\\r\\n\n",
      "\n",
      "Golden Retriever\\r\\n\n",
      "\n",
      "Golden Retriever\\r\\n\n",
      "\n",
      "Golden Retriever\\r\\n\n",
      "\n",
      "Golden Retriever\\r\\n\n",
      "\n",
      "Golden Retriever\\r\\n\n",
      "\n",
      "Golden Retriever\\r\\n\n",
      "\n",
      "Golden Retriever\\r\\n\n",
      "\n",
      "Golden Retriever\\r\\n\n",
      "\n",
      "Golden Retriever\\r\\n\n",
      "\n",
      "Golden Retriever\\r\\n\n",
      "\n",
      "Golden Retriever\\r\\n\n",
      "\n",
      "Golden Retriever\\r\\n\n",
      "\n",
      "Golden Retriever\\r\\n\n",
      "\n",
      "Golden Retriever\\r\\n\n",
      "\n",
      "Golden Retriever\\r\\n\n",
      "\n",
      "Golden Retriever\\r\\n\n",
      "\n",
      "Golden Retriever\\r\\n\n",
      "\n",
      "Golden Retriever\\r\\n\n",
      "\n",
      "Golden Retriever\\r\\n\n",
      "\n",
      "Golden Retriever\\r\\n\n",
      "\n",
      "Golden Retriever\\r\\n\n",
      "\n",
      "Golden Retriever\\r\\n\n",
      "\n",
      "Golden Retriever\\r\\n\n",
      "\n",
      "Golden Retriever\\r\\n\n",
      "\n",
      "Golden Retriever\\r\\n\n",
      "\n",
      "Golden Retriever\\r\\n\n",
      "\n",
      "Golden Retriever\\r\\n\n",
      "\n",
      "Golden Retriever\\r\\n\n",
      "\n",
      "Golden Retriever\\r\\n\n",
      "\n",
      "Golden Retriever\\r\\n\n",
      "\n",
      "Golden Retriever\\r\\n\n",
      "\n",
      "Golden Retriever\\r\\n\n",
      "\n",
      "Golden Retriever\\r\\n\n",
      "\n",
      "Golden Retriever\\r\\n\n",
      "\n",
      "Golden Retriever\\r\\n\n",
      "\n",
      "Golden Retriever\\r\\n\n",
      "\n",
      "Golden Retriever\\r\\n\n",
      "\n",
      "Golden Retriever\\r\\n\n",
      "\n",
      "Golden Retriever\\r\\n\n",
      "\n",
      "Golden Retriever\\r\\n\n",
      "\n",
      "Golden Retriever\\r\\n\n",
      "\n",
      "Golden Retriever\\r\\n\n",
      "\n",
      "Golden Retriever\\r\\n\n",
      "\n",
      "Golden Retriever\\r\\n\n",
      "\n",
      "Golden Retriever\\r\\n\n",
      "\n",
      "Golden Retriever\\r\\n\n",
      "\n",
      "Golden Retriever\\r\\n\n",
      "\n",
      "Golden Retriever\\r\\n\n",
      "\n",
      "Golden Retriever\\r\\n\n",
      "\n",
      "Golden Retriever\\r\\n\n",
      "\n",
      "Golden Retriever\\r\\n\n",
      "\n",
      "Golden Retriever\\r\\n\n",
      "\n",
      "Golden Retriever\\r\\n\n",
      "\n",
      "Golden Retriever\\r\\n\n",
      "\n",
      "Golden Retriever\\r\\n\n",
      "\n",
      "Golden Retriever\\r\\n\n",
      "\n",
      "Golden Retriever\\r\\n\n",
      "\n",
      "Golden Retriever\\r\\n\n",
      "\n",
      "Golden Retriever\\r\\n\n",
      "\n",
      "Golden Retriever\\r\\n\n",
      "\n",
      "Golden Retriever\\r\\n\n",
      "\n",
      "Golden Retriever\\r\\n\n",
      "\n",
      "Golden Retriever\\r\\n\n",
      "\n",
      "Golden Retriever\\r\\n\n",
      "\n",
      "Golden Retriever\\r\\n\n",
      "\n",
      "Golden Retriever\\r\\n\n",
      "\n",
      "Golden Retriever\\r\\n\n",
      "\n",
      "Golden Retriever\\r\\n\n",
      "\n",
      "Golden Retriever\\r\\n\n",
      "\n",
      "Golden Retriever\\r\\n\n",
      "\n",
      "Golden Retriever\\r\\n\n",
      "\n",
      "Golden Retriever\\r\\n\n",
      "\n",
      "Golden Retriever\\r\\n\n",
      "\n",
      "Golden Retriever\\r\\n\n",
      "\n",
      "Golden Retriever\\r\\n\n",
      "\n",
      "Golden Retriever\\r\\n\n",
      "\n",
      "Golden Retriever\\r\\n\n",
      "\n",
      "Golden Retriever\\r\\n\n",
      "\n",
      "Golden Retriever\\r\\n\n",
      "\n",
      "Golden Retriever\\r\\n\n",
      "\n",
      "Golden Retriever\\r\\n\n",
      "\n",
      "Golden Retriever\\r\\n\n",
      "\n",
      "Golden Retriever\\r\\n\n",
      "\n",
      "Golden Retriever\\r\\n\n",
      "\n",
      "Golden Retriever\\r\\n\n",
      "\n",
      "Golden Retriever\\r\\n\n",
      "\n",
      "Golden Retriever\\r\\n\n",
      "\n",
      "Golden Retriever\\r\\n\n",
      "\n",
      "Golden Retriever\\r\\n\n",
      "\n",
      "Golden Retriever\\r\\n\n",
      "\n",
      "Golden Retriever\\r\\n\n",
      "\n",
      "Golden Retriever\\r\\n\n",
      "\n",
      "Golden Retriever\\r\\n\n",
      "\n",
      "Golden Retriever\\r\\n\n",
      "\n",
      "Golden Retriever\\r\\n\n",
      "\n",
      "Golden Retriever\\r\\n\n",
      "\n",
      "Golden Retriever\\r\\n\n",
      "\n",
      "Golden Retriever\\r\\n\n",
      "\n",
      "Golden Retriever\\r\\n\n",
      "\n",
      "Golden Retriever\\r\\n\n",
      "\n",
      "Golden Retriever\\r\\n\n",
      "\n",
      "Golden Retriever\\r\\n\n",
      "\n",
      "Golden Retriever\\r\\n\n",
      "\n",
      "Golden Retriever\\r\\n\n",
      "\n",
      "Golden Retriever\\r\\n\n",
      "\n",
      "Golden Retriever\\r\\n\n",
      "\n",
      "Golden Retriever\\r\\n\n",
      "\n",
      "Golden Retriever\\r\\n\n",
      "\n",
      "Golden Retriever\\r\\n\n",
      "\n",
      "Golden Retriever\\r\\n\n",
      "\n",
      "Golden Retriever\\r\\n\n",
      "\n",
      "Golden Retriever\\r\\n\n",
      "\n",
      "Golden Retriever\\r\\n\n",
      "\n",
      "Golden Retriever\\r\\n\n",
      "\n",
      "Golden Retriever\\r\\n\n",
      "\n",
      "Golden Retriever\\r\\n\n",
      "\n",
      "Golden Retriever\\r\\n\n",
      "\n",
      "Golden Retriever\\r\\n\n",
      "\n",
      "Golden Retriever\\r\\n\n",
      "\n",
      "Golden Retriever\\r\\n\n",
      "\n",
      "Golden Retriever\\r\\n\n",
      "\n",
      "Golden Retriever\\r\\n\n",
      "\n",
      "Golden Retriever\\r\\n\n",
      "\n",
      "Golden Retriever\\r\\n\n",
      "\n",
      "Golden Retriever\\r\\n\n",
      "\n",
      "Golden Retriever\\r\\n\n",
      "\n",
      "Golden Retriever\\r\\n\n",
      "\n",
      "Golden Retriever\\r\\n\n",
      "\n",
      "Golden Retriever\\r\\n\n",
      "\n",
      "Golden Retriever\\r\\n\n",
      "\n",
      "Golden Retriever\\r\\n\n",
      "\n",
      "Golden Retriever\\r\\n\n",
      "\n",
      "Golden Retriever\\r\\n\n",
      "\n",
      "Golden Retriever\\r\\n\n",
      "\n",
      "Golden Retriever\\r\\n\n",
      "\n",
      "Golden Retriever\\r\\n\n",
      "\n",
      "Golden Retriever\\r\\n\n",
      "\n",
      "Golden Retriever\\r\\n\n",
      "\n",
      "Golden Retriever\\r\\n\n",
      "\n",
      "Golden Retriever\\r\\n\n",
      "\n",
      "Golden Retriever\\r\\n\n",
      "\n",
      "Golden Retriever\\r\\n\n",
      "\n",
      "Golden Retriever\\r\\n\n",
      "\n",
      "Golden Retriever\\r\\n\n",
      "\n",
      "Golden Retriever\\r\\n\n",
      "\n",
      "Golden Retriever\\r\\n\n",
      "\n",
      "Golden Retriever\\r\\n\n",
      "\n",
      "Golden Retriever\\r\\n\n",
      "\n",
      "Golden Retriever\\r\\n\n",
      "\n",
      "Golden Retriever\\r\\n\n",
      "\n",
      "Golden Retriever\\r\\n\n",
      "\n",
      "Golden Retriever\\r\\n\n",
      "\n",
      "Golden Retriever\\r\\n\n",
      "\n",
      "Golden Retriever\\r\\n\n",
      "\n",
      "Golden Retriever\\r\\n\n",
      "\n",
      "Golden Retriever\\r\\n\n",
      "\n",
      "Golden Retriever\\r\\n\n",
      "\n",
      "Golden Retriever\\r\\n\n",
      "\n",
      "Golden Retriever\\r\\n\n",
      "\n",
      "Golden Retriever\\r\\n\n",
      "\n",
      "Golden Retriever\\r\\n\n",
      "\n",
      "Golden Retriever\\r\\n\n",
      "\n"
     ]
    }
   ],
   "source": [
    "fhand = open(\"sample_file.txt\")\n",
    "for line in fhand:\n",
    "    if line.startswith(\"Golden\"):\n",
    "        print(line)"
   ]
  },
  {
   "cell_type": "code",
   "execution_count": null,
   "metadata": {},
   "outputs": [],
   "source": [
    "filename = input(\"Enter the file name:\")\n",
    "try:\n",
    "    file_handle = open(filename)\n",
    "except:\n",
    "    print(f\"File cant be open: {filename}\")\n",
    "    quit()\n",
    "    \n",
    "count=0\n",
    "for line in file_handle:\n",
    "    if line.startswith(\"Subject:\"):\n",
    "        count+=1\n",
    "print(f\"There were {count} subject lines in {filename}\")"
   ]
  },
  {
   "cell_type": "code",
   "execution_count": 16,
   "metadata": {},
   "outputs": [
    {
     "name": "stdout",
     "output_type": "stream",
     "text": [
      "Enter file name: mboc-short.txt\n",
      "Average spam confidence: 0.7507185185185187\n"
     ]
    }
   ],
   "source": [
    "# Use the file name mbox-short.txt as the file name\n",
    "fname = input(\"Enter file name: \")\n",
    "fh = open(fname)\n",
    "count=0\n",
    "suma = 0\n",
    "for line in fh:\n",
    "    if not line.startswith(\"X-DSPAM-Confidence:\") : continue\n",
    "    count+=1\n",
    "    suma += float(line[20:])\n",
    "average = suma/count\n",
    "\n",
    "print(\"Average spam confidence:\",float(average))"
   ]
  },
  {
   "cell_type": "code",
   "execution_count": 11,
   "metadata": {},
   "outputs": [],
   "source": [
    "0.750718518519"
   ]
  },
  {
   "cell_type": "code",
   "execution_count": 14,
   "metadata": {},
   "outputs": [
    {
     "data": {
      "text/plain": [
       "'0.6178'"
      ]
     },
     "execution_count": 14,
     "metadata": {},
     "output_type": "execute_result"
    }
   ],
   "source": [
    "string[20:]"
   ]
  },
  {
   "cell_type": "code",
   "execution_count": 17,
   "metadata": {},
   "outputs": [],
   "source": [
    "g = \"Banana\""
   ]
  },
  {
   "cell_type": "code",
   "execution_count": 20,
   "metadata": {},
   "outputs": [
    {
     "name": "stdout",
     "output_type": "stream",
     "text": [
      "banana\n"
     ]
    }
   ],
   "source": [
    "fruit = 'Banana'\n",
    "fruit = 'b'+fruit[1:]\n",
    "print(fruit)"
   ]
  },
  {
   "cell_type": "code",
   "execution_count": 21,
   "metadata": {},
   "outputs": [
    {
     "name": "stdout",
     "output_type": "stream",
     "text": [
      "6\n"
     ]
    }
   ],
   "source": [
    "a = [1, 2, 3]\n",
    "b = [4, 5, 6]\n",
    "c = a + b\n",
    "print(len(c))"
   ]
  },
  {
   "cell_type": "code",
   "execution_count": 22,
   "metadata": {},
   "outputs": [
    {
     "name": "stdout",
     "output_type": "stream",
     "text": [
      "Glenn\n"
     ]
    }
   ],
   "source": [
    "friends = [ 'Joseph', 'Glenn', 'Sally' ]\n",
    "friends.sort()\n",
    "print(friends[0])"
   ]
  },
  {
   "cell_type": "code",
   "execution_count": 23,
   "metadata": {},
   "outputs": [
    {
     "name": "stdout",
     "output_type": "stream",
     "text": [
      "['Glenn', 'Joseph', 'Sally']\n"
     ]
    }
   ],
   "source": [
    "print(friends)"
   ]
  },
  {
   "cell_type": "code",
   "execution_count": 43,
   "metadata": {
    "collapsed": true
   },
   "outputs": [
    {
     "name": "stdout",
     "output_type": "stream",
     "text": [
      "['Arise', 'But', 'It', 'Juliet', 'Who', 'already', 'and', 'breaks', 'east', 'envious', 'fair', 'grief', 'is', 'kill', 'light', 'moon', 'pale', 'sick', 'soft', 'sun', 'the', 'through', 'what', 'window', 'with', 'yonder']\n"
     ]
    }
   ],
   "source": [
    "# fname = input(\"Enter file name: \")\n",
    "fname = \"romeo.txt\"\n",
    "fh = open(fname)\n",
    "lst = []\n",
    "for line in fh:\n",
    "    x = line.split()\n",
    "    for word in x:\n",
    "        if word not in lst:\n",
    "            lst.append(word)\n",
    "# print(line.rstrip())\n",
    "lst.sort()\n",
    "print(lst)"
   ]
  },
  {
   "cell_type": "code",
   "execution_count": 54,
   "metadata": {
    "collapsed": true
   },
   "outputs": [
    {
     "name": "stdout",
     "output_type": "stream",
     "text": [
      "Enter file name: \n",
      "stephen.marquard@uct.ac.za\n",
      "louis@media.berkeley.edu\n",
      "zqian@umich.edu\n",
      "rjlowe@iupui.edu\n",
      "zqian@umich.edu\n",
      "rjlowe@iupui.edu\n",
      "cwen@iupui.edu\n",
      "cwen@iupui.edu\n",
      "gsilver@umich.edu\n",
      "gsilver@umich.edu\n",
      "zqian@umich.edu\n",
      "gsilver@umich.edu\n",
      "wagnermr@iupui.edu\n",
      "zqian@umich.edu\n",
      "antranig@caret.cam.ac.uk\n",
      "gopal.ramasammycook@gmail.com\n",
      "david.horwitz@uct.ac.za\n",
      "david.horwitz@uct.ac.za\n",
      "david.horwitz@uct.ac.za\n",
      "david.horwitz@uct.ac.za\n",
      "stephen.marquard@uct.ac.za\n",
      "louis@media.berkeley.edu\n",
      "louis@media.berkeley.edu\n",
      "ray@media.berkeley.edu\n",
      "cwen@iupui.edu\n",
      "cwen@iupui.edu\n",
      "cwen@iupui.edu\n",
      "There were 27 lines in the file with From as the first word\n"
     ]
    }
   ],
   "source": [
    "fname = input(\"Enter file name: \")\n",
    "if len(fname) < 1 : fname = \"email.txt\"\n",
    "\n",
    "fh = open(fname)\n",
    "count = 0\n",
    "for line in fh:\n",
    "    if not line.startswith(\"From:\"):\n",
    "        continue\n",
    "    count+=1\n",
    "    print(line.split()[1])\n",
    "    \n",
    "\n",
    "print(\"There were\", count, \"lines in the file with From as the first word\")\n"
   ]
  },
  {
   "cell_type": "code",
   "execution_count": 47,
   "metadata": {},
   "outputs": [],
   "source": [
    "s = \"From: ray@media.berkeley.edu\""
   ]
  },
  {
   "cell_type": "code",
   "execution_count": 51,
   "metadata": {},
   "outputs": [
    {
     "data": {
      "text/plain": [
       "'ray@media.berkeley.edu'"
      ]
     },
     "execution_count": 51,
     "metadata": {},
     "output_type": "execute_result"
    }
   ],
   "source": [
    "s[s.index(':')+2:]"
   ]
  },
  {
   "cell_type": "code",
   "execution_count": 55,
   "metadata": {
    "collapsed": true
   },
   "outputs": [
    {
     "ename": "KeyError",
     "evalue": "'candy'",
     "output_type": "error",
     "traceback": [
      "\u001b[1;31m---------------------------------------------------------------------------\u001b[0m",
      "\u001b[1;31mKeyError\u001b[0m                                  Traceback (most recent call last)",
      "\u001b[1;32m<ipython-input-55-928189c0281a>\u001b[0m in \u001b[0;36m<module>\u001b[1;34m\u001b[0m\n\u001b[0;32m      1\u001b[0m \u001b[0mstuff\u001b[0m \u001b[1;33m=\u001b[0m \u001b[0mdict\u001b[0m\u001b[1;33m(\u001b[0m\u001b[1;33m)\u001b[0m\u001b[1;33m\u001b[0m\u001b[0m\n\u001b[1;32m----> 2\u001b[1;33m \u001b[0mprint\u001b[0m\u001b[1;33m(\u001b[0m\u001b[0mstuff\u001b[0m\u001b[1;33m[\u001b[0m\u001b[1;34m'candy'\u001b[0m\u001b[1;33m]\u001b[0m\u001b[1;33m)\u001b[0m\u001b[1;33m\u001b[0m\u001b[0m\n\u001b[0m",
      "\u001b[1;31mKeyError\u001b[0m: 'candy'"
     ]
    }
   ],
   "source": [
    "stuff = dict()\n",
    "print(stuff['candy'])"
   ]
  },
  {
   "cell_type": "code",
   "execution_count": 56,
   "metadata": {},
   "outputs": [
    {
     "name": "stdout",
     "output_type": "stream",
     "text": [
      "-1\n"
     ]
    }
   ],
   "source": [
    "stuff = dict()\n",
    "print(stuff.get('candy',-1))"
   ]
  },
  {
   "cell_type": "code",
   "execution_count": 57,
   "metadata": {
    "collapsed": true
   },
   "outputs": [
    {
     "name": "stdout",
     "output_type": "stream",
     "text": [
      "Enter file:\n",
      "From stephen.marquard@uct.ac.za Sat Jan  5 09:14:16 2008\n",
      "\n",
      "From: stephen.marquard@uct.ac.za\n",
      "\n",
      "From louis@media.berkeley.edu Fri Jan  4 18:10:48 2008\n",
      "\n",
      "From: louis@media.berkeley.edu\n",
      "\n",
      "From zqian@umich.edu Fri Jan  4 16:10:39 2008\n",
      "\n",
      "From: zqian@umich.edu\n",
      "\n",
      "From rjlowe@iupui.edu Fri Jan  4 15:46:24 2008\n",
      "\n",
      "From: rjlowe@iupui.edu\n",
      "\n",
      "From zqian@umich.edu Fri Jan  4 15:03:18 2008\n",
      "\n",
      "From: zqian@umich.edu\n",
      "\n",
      "From rjlowe@iupui.edu Fri Jan  4 14:50:18 2008\n",
      "\n",
      "From: rjlowe@iupui.edu\n",
      "\n",
      "From cwen@iupui.edu Fri Jan  4 11:37:30 2008\n",
      "\n",
      "From: cwen@iupui.edu\n",
      "\n",
      "From cwen@iupui.edu Fri Jan  4 11:35:08 2008\n",
      "\n",
      "From: cwen@iupui.edu\n",
      "\n",
      "From gsilver@umich.edu Fri Jan  4 11:12:37 2008\n",
      "\n",
      "From: gsilver@umich.edu\n",
      "\n",
      "From gsilver@umich.edu Fri Jan  4 11:11:52 2008\n",
      "\n",
      "From: gsilver@umich.edu\n",
      "\n",
      "From zqian@umich.edu Fri Jan  4 11:11:03 2008\n",
      "\n",
      "From: zqian@umich.edu\n",
      "\n",
      "From gsilver@umich.edu Fri Jan  4 11:10:22 2008\n",
      "\n",
      "From: gsilver@umich.edu\n",
      "\n",
      "From wagnermr@iupui.edu Fri Jan  4 10:38:42 2008\n",
      "\n",
      "From: wagnermr@iupui.edu\n",
      "\n",
      "From zqian@umich.edu Fri Jan  4 10:17:43 2008\n",
      "\n",
      "From: zqian@umich.edu\n",
      "\n",
      "From antranig@caret.cam.ac.uk Fri Jan  4 10:04:14 2008\n",
      "\n",
      "From: antranig@caret.cam.ac.uk\n",
      "\n",
      "From gopal.ramasammycook@gmail.com Fri Jan  4 09:05:31 2008\n",
      "\n",
      "From: gopal.ramasammycook@gmail.com\n",
      "\n",
      "From david.horwitz@uct.ac.za Fri Jan  4 07:02:32 2008\n",
      "\n",
      "From: david.horwitz@uct.ac.za\n",
      "\n",
      "From david.horwitz@uct.ac.za Fri Jan  4 06:08:27 2008\n",
      "\n",
      "From: david.horwitz@uct.ac.za\n",
      "\n",
      "From david.horwitz@uct.ac.za Fri Jan  4 04:49:08 2008\n",
      "\n",
      "From: david.horwitz@uct.ac.za\n",
      "\n",
      "From david.horwitz@uct.ac.za Fri Jan  4 04:33:44 2008\n",
      "\n",
      "From: david.horwitz@uct.ac.za\n",
      "\n",
      "From stephen.marquard@uct.ac.za Fri Jan  4 04:07:34 2008\n",
      "\n",
      "From: stephen.marquard@uct.ac.za\n",
      "\n",
      "From louis@media.berkeley.edu Thu Jan  3 19:51:21 2008\n",
      "\n",
      "From: louis@media.berkeley.edu\n",
      "\n",
      "From louis@media.berkeley.edu Thu Jan  3 17:18:23 2008\n",
      "\n",
      "From: louis@media.berkeley.edu\n",
      "\n",
      "From ray@media.berkeley.edu Thu Jan  3 17:07:00 2008\n",
      "\n",
      "From: ray@media.berkeley.edu\n",
      "\n",
      "From cwen@iupui.edu Thu Jan  3 16:34:40 2008\n",
      "\n",
      "From: cwen@iupui.edu\n",
      "\n",
      "From cwen@iupui.edu Thu Jan  3 16:29:07 2008\n",
      "\n",
      "From: cwen@iupui.edu\n",
      "\n",
      "From cwen@iupui.edu Thu Jan  3 16:23:48 2008\n",
      "\n",
      "From: cwen@iupui.edu\n",
      "\n"
     ]
    }
   ],
   "source": [
    "name = input(\"Enter file:\")\n",
    "if len(name) < 1 : name = \"mbox-short.txt\"\n",
    "handle = open(name)\n",
    "for line in handle:\n",
    "    if line.startswith(\"From\"):\n",
    "        print(line)"
   ]
  },
  {
   "cell_type": "code",
   "execution_count": 10,
   "metadata": {},
   "outputs": [
    {
     "name": "stdout",
     "output_type": "stream",
     "text": [
      "Enter file:\n",
      "cwen@iupui.edu 5\n"
     ]
    }
   ],
   "source": [
    "name = input(\"Enter file:\")\n",
    "if len(name) < 1 : name = \"mbox-short.txt\"\n",
    "handle = open(name)\n",
    "y = {}\n",
    "for line in handle:\n",
    "    if line.startswith(\"From:\"):\n",
    "        email = line.strip().split()[1]\n",
    "        if not email in y:\n",
    "            y[email]=1\n",
    "        else:\n",
    "            y[email]+=1\n",
    "x = max(y, key=y.get)\n",
    "print(x,y[x])"
   ]
  },
  {
   "cell_type": "code",
   "execution_count": null,
   "metadata": {},
   "outputs": [],
   "source": [
    "Keymax = max(Tv, key=Tv.get) \n",
    "print(Keymax)"
   ]
  },
  {
   "cell_type": "code",
   "execution_count": 12,
   "metadata": {},
   "outputs": [
    {
     "name": "stdout",
     "output_type": "stream",
     "text": [
      "Enter file:\n",
      "cwen@iupui.edu 5\n"
     ]
    }
   ],
   "source": [
    "name = input(\"Enter file:\")\n",
    "if len(name) < 1 : name = \"mbox-short.txt\"\n",
    "handle = open(name)\n",
    "words = []\n",
    "for line in handle:\n",
    "    if not line.startswith(\"From:\") : continue\n",
    "    line = line.split()\n",
    "    words.append(line[1])\n",
    "\n",
    "counts = dict()\n",
    "for word in words:\n",
    "           counts[word] = counts.get(word, 0) + 1 \n",
    "maxval = 0\n",
    "maxkey = None\n",
    "for key,val in counts.items():\n",
    "    if val > maxval:\n",
    "        maxval = val\n",
    "        maxkey = key   \n",
    "\n",
    "print(maxkey, maxval)"
   ]
  },
  {
   "cell_type": "code",
   "execution_count": 13,
   "metadata": {},
   "outputs": [],
   "source": [
    "x = (5,2,4)"
   ]
  },
  {
   "cell_type": "code",
   "execution_count": 14,
   "metadata": {},
   "outputs": [
    {
     "data": {
      "text/plain": [
       "2"
      ]
     },
     "execution_count": 14,
     "metadata": {},
     "output_type": "execute_result"
    }
   ],
   "source": [
    "x[1]"
   ]
  },
  {
   "cell_type": "code",
   "execution_count": 15,
   "metadata": {},
   "outputs": [],
   "source": [
    "x = { 'chuck' : 1 , 'fred' : 42, 'jan': 100}\n",
    "y = x.items()"
   ]
  },
  {
   "cell_type": "code",
   "execution_count": 16,
   "metadata": {},
   "outputs": [
    {
     "data": {
      "text/plain": [
       "dict_items([('chuck', 1), ('fred', 42), ('jan', 100)])"
      ]
     },
     "execution_count": 16,
     "metadata": {},
     "output_type": "execute_result"
    }
   ],
   "source": [
    "y"
   ]
  },
  {
   "cell_type": "code",
   "execution_count": 20,
   "metadata": {},
   "outputs": [
    {
     "name": "stdout",
     "output_type": "stream",
     "text": [
      "x\n"
     ]
    }
   ],
   "source": [
    "x = (5, 1, 3)\n",
    "if (6,0,0)>x:\n",
    "    print(\"x\")\n",
    "else:print(\"y\")"
   ]
  },
  {
   "cell_type": "code",
   "execution_count": 21,
   "metadata": {},
   "outputs": [],
   "source": [
    "data = [1,2,3,4,5,6]"
   ]
  },
  {
   "cell_type": "code",
   "execution_count": 24,
   "metadata": {},
   "outputs": [
    {
     "ename": "TypeError",
     "evalue": "must use keyword argument for key function",
     "output_type": "error",
     "traceback": [
      "\u001b[1;31m---------------------------------------------------------------------------\u001b[0m",
      "\u001b[1;31mTypeError\u001b[0m                                 Traceback (most recent call last)",
      "\u001b[1;32m<ipython-input-24-eb20e93fed45>\u001b[0m in \u001b[0;36m<module>\u001b[1;34m\u001b[0m\n\u001b[1;32m----> 1\u001b[1;33m \u001b[0mdata\u001b[0m\u001b[1;33m.\u001b[0m\u001b[0msort\u001b[0m\u001b[1;33m(\u001b[0m\u001b[1;33m-\u001b[0m\u001b[1;36m1\u001b[0m\u001b[1;33m)\u001b[0m\u001b[1;33m\u001b[0m\u001b[0m\n\u001b[0m",
      "\u001b[1;31mTypeError\u001b[0m: must use keyword argument for key function"
     ]
    }
   ],
   "source": [
    "data.sort(-1)"
   ]
  },
  {
   "cell_type": "code",
   "execution_count": 23,
   "metadata": {},
   "outputs": [
    {
     "data": {
      "text/plain": [
       "[6, 5, 4, 3, 2, 1]"
      ]
     },
     "execution_count": 23,
     "metadata": {},
     "output_type": "execute_result"
    }
   ],
   "source": [
    "data"
   ]
  },
  {
   "cell_type": "code",
   "execution_count": 43,
   "metadata": {},
   "outputs": [
    {
     "name": "stdout",
     "output_type": "stream",
     "text": [
      "Enter file:\n",
      "04 3\n",
      "06 1\n",
      "07 1\n",
      "09 2\n",
      "10 3\n",
      "11 6\n",
      "14 1\n",
      "15 2\n",
      "16 4\n",
      "17 2\n",
      "18 1\n",
      "19 1\n"
     ]
    }
   ],
   "source": [
    "name = input(\"Enter file:\")\n",
    "if len(name) < 1 : name = \"mbox-short.txt\"\n",
    "handle = open(name)\n",
    "y = {}\n",
    "for line in handle:\n",
    "    if line.startswith(\"From \"):\n",
    "        hr = line.strip().split()[5]\n",
    "        hr = hr[:2]\n",
    "        if not hr in y:\n",
    "            y[hr]=1\n",
    "        else:\n",
    "            y[hr]+=1\n",
    "\n",
    "for key in sorted(y):\n",
    "    print(\"%s %s\"%(key, y[key]))"
   ]
  },
  {
   "cell_type": "code",
   "execution_count": 2,
   "metadata": {},
   "outputs": [
    {
     "name": "stdout",
     "output_type": "stream",
     "text": [
      "From: stephen.marquard@uct.ac.za\n",
      "From: louis@media.berkeley.edu\n",
      "From: zqian@umich.edu\n",
      "From: rjlowe@iupui.edu\n",
      "From: zqian@umich.edu\n",
      "From: rjlowe@iupui.edu\n",
      "From: cwen@iupui.edu\n",
      "From: cwen@iupui.edu\n",
      "From: gsilver@umich.edu\n",
      "From: gsilver@umich.edu\n",
      "From: zqian@umich.edu\n",
      "From: gsilver@umich.edu\n",
      "From: wagnermr@iupui.edu\n",
      "From: zqian@umich.edu\n",
      "From: antranig@caret.cam.ac.uk\n",
      "From: gopal.ramasammycook@gmail.com\n",
      "From: david.horwitz@uct.ac.za\n",
      "From: david.horwitz@uct.ac.za\n",
      "From: david.horwitz@uct.ac.za\n",
      "From: david.horwitz@uct.ac.za\n",
      "From: stephen.marquard@uct.ac.za\n",
      "From: louis@media.berkeley.edu\n",
      "From: louis@media.berkeley.edu\n",
      "From: ray@media.berkeley.edu\n",
      "From: cwen@iupui.edu\n",
      "From: cwen@iupui.edu\n",
      "From: cwen@iupui.edu\n"
     ]
    }
   ],
   "source": [
    "import re\n",
    "\n",
    "hand = open(\"mbox-short.txt\")\n",
    "for line in hand:\n",
    "    line = line.rstrip()\n",
    "    if re.search(\"^From:\", line):\n",
    "        print(line)"
   ]
  },
  {
   "cell_type": "code",
   "execution_count": 7,
   "metadata": {},
   "outputs": [
    {
     "name": "stdout",
     "output_type": "stream",
     "text": [
      "['2', '24', '15', '25']\n"
     ]
    }
   ],
   "source": [
    "import re\n",
    "x = \"My 2 favo24urite numbers are 15 adn 25\"\n",
    "y = re.findall(\"[0-9]+\",x)\n",
    "print(y)"
   ]
  },
  {
   "cell_type": "code",
   "execution_count": 9,
   "metadata": {},
   "outputs": [
    {
     "name": "stdout",
     "output_type": "stream",
     "text": [
      "[]\n"
     ]
    }
   ],
   "source": [
    "y = re.findall(\"[AEIOU]+\",x)#+ means 1 or more\n",
    "print(y)"
   ]
  },
  {
   "cell_type": "code",
   "execution_count": 12,
   "metadata": {},
   "outputs": [
    {
     "name": "stdout",
     "output_type": "stream",
     "text": [
      "['From: Using the:']\n"
     ]
    }
   ],
   "source": [
    "\"\"\"\n",
    "^F.+:\n",
    "^ - starts with F\n",
    ". means any number of characcters any characters\n",
    "+ means one or more char\n",
    ": - means last character in the match is a :\n",
    "\"\"\"\n",
    "x = \"From: Using the: and this is not the end\"\n",
    "y = re.findall(\"^F.+:\",x)\n",
    "print(y)"
   ]
  },
  {
   "cell_type": "code",
   "execution_count": 14,
   "metadata": {},
   "outputs": [
    {
     "name": "stdout",
     "output_type": "stream",
     "text": [
      "['From:']\n"
     ]
    }
   ],
   "source": [
    "\"\"\"\n",
    "^F.+?:\n",
    ". means any character\n",
    "+ means one or more time\n",
    "? means dont be greedy\n",
    "\"\"\"\n",
    "import re\n",
    "x = \"From: using the : character\"\n",
    "y = re.findall(\"^F.+?:\", x)\n",
    "print(y)"
   ]
  },
  {
   "cell_type": "code",
   "execution_count": 25,
   "metadata": {},
   "outputs": [
    {
     "name": "stdout",
     "output_type": "stream",
     "text": [
      "['stephen.marquard@uct.ac.za']\n"
     ]
    }
   ],
   "source": [
    "#looking for email\n",
    "x = \"From: stephen.marquard@uct.ac.za sat jun 5 09:14:16 2008\"\n",
    "y = re.findall(\"\\S+@\\S+\", x)\n",
    "print(y)\n",
    "\n"
   ]
  },
  {
   "cell_type": "code",
   "execution_count": 27,
   "metadata": {},
   "outputs": [
    {
     "name": "stdout",
     "output_type": "stream",
     "text": [
      "['stephen.marquard@uct.ac.za']\n"
     ]
    }
   ],
   "source": [
    "#looking for email\n",
    "x = \"From stephen.marquard@uct.ac.za sat jun 5 09:14:16 2008\"\n",
    "y = re.findall(\"^From (\\S+@\\S+)\", x)\n",
    "print(y)"
   ]
  },
  {
   "cell_type": "code",
   "execution_count": 28,
   "metadata": {},
   "outputs": [],
   "source": [
    "data = \"From stephen.marquard@uct.ac.za sat jun 5 09:14:16 2008\""
   ]
  },
  {
   "cell_type": "code",
   "execution_count": 31,
   "metadata": {},
   "outputs": [
    {
     "name": "stdout",
     "output_type": "stream",
     "text": [
      "21\n",
      "31\n",
      "uct.ac.za\n"
     ]
    }
   ],
   "source": [
    "atpos = data.find(\"@\")\n",
    "print(atpos)\n",
    "sppos = data.find(\" \",atpos)\n",
    "print(sppos)\n",
    "host = data[atpos+1:sppos]\n",
    "print(host)"
   ]
  },
  {
   "cell_type": "code",
   "execution_count": 33,
   "metadata": {},
   "outputs": [
    {
     "name": "stdout",
     "output_type": "stream",
     "text": [
      "uct.ac.za\n"
     ]
    }
   ],
   "source": [
    "# double split\n",
    "data = \"From stephen.marquard@uct.ac.za sat jun 5 09:14:16 2008\"\n",
    "words = data.split()\n",
    "email = words[1]\n",
    "x = email.split(\"@\")\n",
    "print(x[1])"
   ]
  },
  {
   "cell_type": "code",
   "execution_count": 35,
   "metadata": {},
   "outputs": [
    {
     "name": "stdout",
     "output_type": "stream",
     "text": [
      "['uct.ac.za']\n"
     ]
    }
   ],
   "source": [
    "\"\"\"\n",
    "\"@([^ ]*)\"\n",
    "() means starts extracting from this time\n",
    "[] means match non-blank character\n",
    "* means Match many of them\n",
    "[^ ] not everythng but space\n",
    "\"\"\"\n",
    "import re\n",
    "data = \"From stephen.marquard@uct.ac.za sat jun 5 09:14:16 2008\"\n",
    "y = re.findall(\"@([^ ]*)\", data)\n",
    "print(y)"
   ]
  },
  {
   "cell_type": "code",
   "execution_count": 36,
   "metadata": {},
   "outputs": [
    {
     "name": "stdout",
     "output_type": "stream",
     "text": [
      "['uct.ac.za']\n"
     ]
    }
   ],
   "source": [
    "data = \"From stephen.marquard@uct.ac.za sat jun 5 09:14:16 2008\"\n",
    "y = re.findall(\"^From .*@([^ ]*)\", data)\n",
    "print(y)"
   ]
  },
  {
   "cell_type": "code",
   "execution_count": 37,
   "metadata": {},
   "outputs": [
    {
     "name": "stdout",
     "output_type": "stream",
     "text": [
      "Maximum: 0.9907\n"
     ]
    }
   ],
   "source": [
    "# spam Confident\n",
    "import re\n",
    "hand = open('mbox-short.txt')\n",
    "numlist = []\n",
    "for line in hand:\n",
    "    line = line.rstrip()\n",
    "    stuff = re.findall('^X-DSPAM-Confidence: ([0-9.]+)', line)\n",
    "    if len(stuff)!=1:continue\n",
    "    num = float(stuff[0])\n",
    "    numlist.append(num)\n",
    "print(\"Maximum:\", max(numlist))"
   ]
  },
  {
   "cell_type": "code",
   "execution_count": 38,
   "metadata": {},
   "outputs": [
    {
     "name": "stdout",
     "output_type": "stream",
     "text": [
      "['$10.00']\n"
     ]
    }
   ],
   "source": [
    "x = \"We just receive $10.00 for stuff.\"\n",
    "y = re.findall(\"\\$[0-9.]+\", x)\n",
    "print(y)"
   ]
  },
  {
   "cell_type": "markdown",
   "metadata": {},
   "source": [
    "## Python Regular Expression Quick Guide"
   ]
  },
  {
   "cell_type": "code",
   "execution_count": null,
   "metadata": {},
   "outputs": [],
   "source": [
    "\"\"\"\n",
    "^\tMatches the beginning of a line\n",
    "$\tMatches the end of the line\n",
    ".\tMatches any character\n",
    "\\s\tMatches whitespace\n",
    "\\S\tMatches any non-whitespace character\n",
    "*\tRepeats a character zero or more times\n",
    "*?\tRepeats a character zero or more times (non-greedy)\n",
    "+\tRepeats a character one or more times\n",
    "+?\tRepeats a character one or more times (non-greedy)\n",
    "[aeiou]\tMatches a single character in the listed set\n",
    "[^XYZ]\tMatches a single character not in the listed set\n",
    "[a-z0-9]\tThe set of characters can include a range\n",
    "(\tIndicates where string extraction is to start\n",
    ")\tIndicates where string extraction is to end\n",
    "\"\"\""
   ]
  },
  {
   "cell_type": "code",
   "execution_count": 2,
   "metadata": {},
   "outputs": [
    {
     "name": "stdout",
     "output_type": "stream",
     "text": [
      "['10', '00']\n"
     ]
    }
   ],
   "source": [
    "import re\n",
    "x = \"We just receive 10.00 for stuff.\"\n",
    "y = re.findall(\"[0-9]+\", x)\n",
    "print(y)"
   ]
  },
  {
   "cell_type": "code",
   "execution_count": 3,
   "metadata": {},
   "outputs": [
    {
     "name": "stdout",
     "output_type": "stream",
     "text": [
      "['From: Using the :']\n"
     ]
    }
   ],
   "source": [
    "x = 'From: Using the : character'\n",
    "y = re.findall('^F.+:', x)\n",
    "print(y)"
   ]
  },
  {
   "cell_type": "code",
   "execution_count": 5,
   "metadata": {},
   "outputs": [
    {
     "name": "stdout",
     "output_type": "stream",
     "text": [
      "['stephen.marquard@uct.ac.za']\n"
     ]
    }
   ],
   "source": [
    "#looking for email\n",
    "x = \"From stephen.marquard@uct.ac.za sat jun 5 09:14:16 2008\"\n",
    "y = re.findall(\"\\S+@\\S+\", x)\n",
    "print(y)"
   ]
  },
  {
   "cell_type": "markdown",
   "metadata": {},
   "source": [
    "## Finding number in a haystack"
   ]
  },
  {
   "cell_type": "code",
   "execution_count": 10,
   "metadata": {},
   "outputs": [
    {
     "name": "stdout",
     "output_type": "stream",
     "text": [
      "445833\n"
     ]
    }
   ],
   "source": [
    "import re\n",
    "data = \"regex_sum_42.txt\"\n",
    "hand = open(data).read()\n",
    "y = re.findall(\"[0-9]+\", hand)\n",
    "r = [int(i) for i in y]\n",
    "\n",
    "print(sum(r))"
   ]
  },
  {
   "cell_type": "markdown",
   "metadata": {},
   "source": [
    "## PARSING XML"
   ]
  },
  {
   "cell_type": "code",
   "execution_count": 1,
   "metadata": {},
   "outputs": [],
   "source": [
    "import xml.etree.ElementTree as ET"
   ]
  },
  {
   "cell_type": "code",
   "execution_count": 2,
   "metadata": {},
   "outputs": [],
   "source": [
    "data = \"\"\"<person>\n",
    "<name>Parag</name>\n",
    "<phone type=\"intl\">+91 9717544527</phone>\n",
    "<email hide=\"yes\"/>\n",
    "</person>\n",
    "\"\"\""
   ]
  },
  {
   "cell_type": "code",
   "execution_count": 3,
   "metadata": {},
   "outputs": [
    {
     "name": "stdout",
     "output_type": "stream",
     "text": [
      "Name: Parag\n",
      "Attr: yes\n"
     ]
    }
   ],
   "source": [
    "tree = ET.fromstring(data)#give me the structured information from the triple quoted string\n",
    "print(\"Name:\",tree.find('name').text)#find me the text of the tag name\n",
    "print(\"Attr:\",tree.find('email').get(\"hide\"))"
   ]
  },
  {
   "cell_type": "code",
   "execution_count": 7,
   "metadata": {},
   "outputs": [
    {
     "data": {
      "text/plain": [
       "'intl'"
      ]
     },
     "execution_count": 7,
     "metadata": {},
     "output_type": "execute_result"
    }
   ],
   "source": [
    "tree.find(\"phone\").get(\"type\")"
   ]
  },
  {
   "cell_type": "code",
   "execution_count": 10,
   "metadata": {},
   "outputs": [
    {
     "name": "stdout",
     "output_type": "stream",
     "text": [
      "user count: 2\n",
      "Name: Parag\n",
      "ID: 001\n",
      "Attr: 2\n",
      "\n",
      "Name: Deepak\n",
      "ID: 003\n",
      "Attr: 7\n",
      "\n"
     ]
    }
   ],
   "source": [
    "import xml.etree.ElementTree as ET\n",
    "data = \"\"\"\n",
    "<stuff>\n",
    "    <users>\n",
    "        <user x=\"2\">\n",
    "            <id>001</id>\n",
    "            <name>Parag</name>\n",
    "        </user>\n",
    "        <user x=\"7\">\n",
    "            <id>003</id>\n",
    "            <name>Deepak</name>\n",
    "        </user>\n",
    "    </users>\n",
    "</stuff>\n",
    "\"\"\"\n",
    "stuff = ET.fromstring(data)\n",
    "L = stuff.findall(\"users/user\")# list of all tags or small trees\n",
    "print(\"user count:\",len(L))\n",
    "for item in L:\n",
    "    print(\"Name:\",item.find(\"name\").text)\n",
    "    print(\"ID:\",item.find(\"id\").text)\n",
    "    print(\"Attr:\",item.get(\"x\"))\n",
    "    print()"
   ]
  },
  {
   "cell_type": "code",
   "execution_count": 1,
   "metadata": {},
   "outputs": [
    {
     "name": "stdout",
     "output_type": "stream",
     "text": [
      "Name: Chuck\n",
      "Attr: yes\n"
     ]
    }
   ],
   "source": [
    "import xml.etree.ElementTree as ET\n",
    "\n",
    "data = '''\n",
    "<person>\n",
    "  <name>Chuck</name>\n",
    "  <phone type=\"intl\">\n",
    "    +1 734 303 4456\n",
    "  </phone>\n",
    "  <email hide=\"yes\" />\n",
    "</person>'''\n",
    "\n",
    "tree = ET.fromstring(data)\n",
    "print('Name:', tree.find('name').text)\n",
    "print('Attr:', tree.find('email').get('hide'))\n"
   ]
  },
  {
   "cell_type": "code",
   "execution_count": 16,
   "metadata": {
    "scrolled": false
   },
   "outputs": [
    {
     "name": "stdout",
     "output_type": "stream",
     "text": [
      "user count: 50\n",
      "2321\n"
     ]
    }
   ],
   "source": [
    "import xml.etree.ElementTree as ET\n",
    "from urllib.request import urlopen\n",
    "\n",
    "response = urlopen(\"http://py4e-data.dr-chuck.net/comments_563056.xml\")\n",
    "data = response.read()\n",
    "stuff = ET.fromstring(data)\n",
    "L = stuff.findall(\"comments/comment\")# list of all tags or small trees\n",
    "print(\"user count:\",len(L))\n",
    "s = 0\n",
    "for item in L:\n",
    "    #print(\"Name:\", item.find(\"name\").text)\n",
    "#     print(\"count:\", item.find(\"count\").text)\n",
    "    s = s + int(item.find(\"count\").text)    \n",
    "print(s)"
   ]
  },
  {
   "cell_type": "markdown",
   "metadata": {},
   "source": [
    "## Java Script Object Notation (JSON)"
   ]
  },
  {
   "cell_type": "code",
   "execution_count": 6,
   "metadata": {},
   "outputs": [
    {
     "ename": "JSONDecodeError",
     "evalue": "Expecting property name enclosed in double quotes: line 1 column 2 (char 1)",
     "output_type": "error",
     "traceback": [
      "\u001b[1;31m---------------------------------------------------------------------------\u001b[0m",
      "\u001b[1;31mJSONDecodeError\u001b[0m                           Traceback (most recent call last)",
      "\u001b[1;32m<ipython-input-6-3b4769f0527b>\u001b[0m in \u001b[0;36m<module>\u001b[1;34m\u001b[0m\n\u001b[0;32m     21\u001b[0m }}\n\u001b[0;32m     22\u001b[0m \"\"\"\n\u001b[1;32m---> 23\u001b[1;33m \u001b[0minfo\u001b[0m \u001b[1;33m=\u001b[0m \u001b[0mjson\u001b[0m\u001b[1;33m.\u001b[0m\u001b[0mloads\u001b[0m\u001b[1;33m(\u001b[0m\u001b[0mdata\u001b[0m\u001b[1;33m)\u001b[0m\u001b[1;33m\u001b[0m\u001b[0m\n\u001b[0m\u001b[0;32m     24\u001b[0m \u001b[1;32mfor\u001b[0m \u001b[0mx\u001b[0m \u001b[1;32min\u001b[0m \u001b[0mrange\u001b[0m\u001b[1;33m(\u001b[0m\u001b[1;36m2\u001b[0m\u001b[1;33m)\u001b[0m\u001b[1;33m:\u001b[0m\u001b[1;33m\u001b[0m\u001b[0m\n\u001b[0;32m     25\u001b[0m     \u001b[0mprint\u001b[0m\u001b[1;33m(\u001b[0m\u001b[1;34m\"Name-\"\u001b[0m\u001b[1;33m,\u001b[0m\u001b[0minfo\u001b[0m\u001b[1;33m[\u001b[0m\u001b[0mx\u001b[0m\u001b[1;33m]\u001b[0m\u001b[1;33m[\u001b[0m\u001b[1;34m'name'\u001b[0m\u001b[1;33m]\u001b[0m\u001b[1;33m)\u001b[0m\u001b[1;33m\u001b[0m\u001b[0m\n",
      "\u001b[1;32mc:\\users\\rgupta\\appdata\\local\\programs\\python\\python36\\lib\\json\\__init__.py\u001b[0m in \u001b[0;36mloads\u001b[1;34m(s, encoding, cls, object_hook, parse_float, parse_int, parse_constant, object_pairs_hook, **kw)\u001b[0m\n\u001b[0;32m    352\u001b[0m             \u001b[0mparse_int\u001b[0m \u001b[1;32mis\u001b[0m \u001b[1;32mNone\u001b[0m \u001b[1;32mand\u001b[0m \u001b[0mparse_float\u001b[0m \u001b[1;32mis\u001b[0m \u001b[1;32mNone\u001b[0m \u001b[1;32mand\u001b[0m\u001b[1;33m\u001b[0m\u001b[0m\n\u001b[0;32m    353\u001b[0m             parse_constant is None and object_pairs_hook is None and not kw):\n\u001b[1;32m--> 354\u001b[1;33m         \u001b[1;32mreturn\u001b[0m \u001b[0m_default_decoder\u001b[0m\u001b[1;33m.\u001b[0m\u001b[0mdecode\u001b[0m\u001b[1;33m(\u001b[0m\u001b[0ms\u001b[0m\u001b[1;33m)\u001b[0m\u001b[1;33m\u001b[0m\u001b[0m\n\u001b[0m\u001b[0;32m    355\u001b[0m     \u001b[1;32mif\u001b[0m \u001b[0mcls\u001b[0m \u001b[1;32mis\u001b[0m \u001b[1;32mNone\u001b[0m\u001b[1;33m:\u001b[0m\u001b[1;33m\u001b[0m\u001b[0m\n\u001b[0;32m    356\u001b[0m         \u001b[0mcls\u001b[0m \u001b[1;33m=\u001b[0m \u001b[0mJSONDecoder\u001b[0m\u001b[1;33m\u001b[0m\u001b[0m\n",
      "\u001b[1;32mc:\\users\\rgupta\\appdata\\local\\programs\\python\\python36\\lib\\json\\decoder.py\u001b[0m in \u001b[0;36mdecode\u001b[1;34m(self, s, _w)\u001b[0m\n\u001b[0;32m    337\u001b[0m \u001b[1;33m\u001b[0m\u001b[0m\n\u001b[0;32m    338\u001b[0m         \"\"\"\n\u001b[1;32m--> 339\u001b[1;33m         \u001b[0mobj\u001b[0m\u001b[1;33m,\u001b[0m \u001b[0mend\u001b[0m \u001b[1;33m=\u001b[0m \u001b[0mself\u001b[0m\u001b[1;33m.\u001b[0m\u001b[0mraw_decode\u001b[0m\u001b[1;33m(\u001b[0m\u001b[0ms\u001b[0m\u001b[1;33m,\u001b[0m \u001b[0midx\u001b[0m\u001b[1;33m=\u001b[0m\u001b[0m_w\u001b[0m\u001b[1;33m(\u001b[0m\u001b[0ms\u001b[0m\u001b[1;33m,\u001b[0m \u001b[1;36m0\u001b[0m\u001b[1;33m)\u001b[0m\u001b[1;33m.\u001b[0m\u001b[0mend\u001b[0m\u001b[1;33m(\u001b[0m\u001b[1;33m)\u001b[0m\u001b[1;33m)\u001b[0m\u001b[1;33m\u001b[0m\u001b[0m\n\u001b[0m\u001b[0;32m    340\u001b[0m         \u001b[0mend\u001b[0m \u001b[1;33m=\u001b[0m \u001b[0m_w\u001b[0m\u001b[1;33m(\u001b[0m\u001b[0ms\u001b[0m\u001b[1;33m,\u001b[0m \u001b[0mend\u001b[0m\u001b[1;33m)\u001b[0m\u001b[1;33m.\u001b[0m\u001b[0mend\u001b[0m\u001b[1;33m(\u001b[0m\u001b[1;33m)\u001b[0m\u001b[1;33m\u001b[0m\u001b[0m\n\u001b[0;32m    341\u001b[0m         \u001b[1;32mif\u001b[0m \u001b[0mend\u001b[0m \u001b[1;33m!=\u001b[0m \u001b[0mlen\u001b[0m\u001b[1;33m(\u001b[0m\u001b[0ms\u001b[0m\u001b[1;33m)\u001b[0m\u001b[1;33m:\u001b[0m\u001b[1;33m\u001b[0m\u001b[0m\n",
      "\u001b[1;32mc:\\users\\rgupta\\appdata\\local\\programs\\python\\python36\\lib\\json\\decoder.py\u001b[0m in \u001b[0;36mraw_decode\u001b[1;34m(self, s, idx)\u001b[0m\n\u001b[0;32m    353\u001b[0m         \"\"\"\n\u001b[0;32m    354\u001b[0m         \u001b[1;32mtry\u001b[0m\u001b[1;33m:\u001b[0m\u001b[1;33m\u001b[0m\u001b[0m\n\u001b[1;32m--> 355\u001b[1;33m             \u001b[0mobj\u001b[0m\u001b[1;33m,\u001b[0m \u001b[0mend\u001b[0m \u001b[1;33m=\u001b[0m \u001b[0mself\u001b[0m\u001b[1;33m.\u001b[0m\u001b[0mscan_once\u001b[0m\u001b[1;33m(\u001b[0m\u001b[0ms\u001b[0m\u001b[1;33m,\u001b[0m \u001b[0midx\u001b[0m\u001b[1;33m)\u001b[0m\u001b[1;33m\u001b[0m\u001b[0m\n\u001b[0m\u001b[0;32m    356\u001b[0m         \u001b[1;32mexcept\u001b[0m \u001b[0mStopIteration\u001b[0m \u001b[1;32mas\u001b[0m \u001b[0merr\u001b[0m\u001b[1;33m:\u001b[0m\u001b[1;33m\u001b[0m\u001b[0m\n\u001b[0;32m    357\u001b[0m             \u001b[1;32mraise\u001b[0m \u001b[0mJSONDecodeError\u001b[0m\u001b[1;33m(\u001b[0m\u001b[1;34m\"Expecting value\"\u001b[0m\u001b[1;33m,\u001b[0m \u001b[0ms\u001b[0m\u001b[1;33m,\u001b[0m \u001b[0merr\u001b[0m\u001b[1;33m.\u001b[0m\u001b[0mvalue\u001b[0m\u001b[1;33m)\u001b[0m \u001b[1;32mfrom\u001b[0m \u001b[1;32mNone\u001b[0m\u001b[1;33m\u001b[0m\u001b[0m\n",
      "\u001b[1;31mJSONDecodeError\u001b[0m: Expecting property name enclosed in double quotes: line 1 column 2 (char 1)"
     ]
    }
   ],
   "source": [
    "import json\n",
    "data = \"\"\"{{\n",
    "\"name\":\"Chuck\",\n",
    "\"phone\":{\n",
    "    \"type\":\"intl\",\n",
    "    \"number\":\"9852361475\"\n",
    "},\n",
    "\"email\":{\n",
    "    \"hide\":\"yes\"\n",
    "    }\n",
    "},\n",
    "{\n",
    "\"name\":\"Chuck\",\n",
    "\"phone\":{\n",
    "    \"type\":\"intl\",\n",
    "    \"number\":\"9852361475\"\n",
    "},\n",
    "\"email\":{\n",
    "    \"hide\":\"yes\"\n",
    "    }\n",
    "}}\n",
    "\"\"\"\n",
    "info = json.loads(data)\n",
    "for x in range(2):\n",
    "    print(\"Name-\",info[x]['name'])\n",
    "    print(\"Hide-\",info[x]['email']['hide'])\n"
   ]
  },
  {
   "cell_type": "code",
   "execution_count": null,
   "metadata": {},
   "outputs": [],
   "source": []
  }
 ],
 "metadata": {
  "kernelspec": {
   "display_name": "Python 3",
   "language": "python",
   "name": "python3"
  },
  "language_info": {
   "codemirror_mode": {
    "name": "ipython",
    "version": 3
   },
   "file_extension": ".py",
   "mimetype": "text/x-python",
   "name": "python",
   "nbconvert_exporter": "python",
   "pygments_lexer": "ipython3",
   "version": "3.6.2"
  }
 },
 "nbformat": 4,
 "nbformat_minor": 2
}
